{
  "nbformat": 4,
  "nbformat_minor": 0,
  "metadata": {
    "colab": {
      "name": "1.Train Test Split using sklearn library.ipynb",
      "provenance": [],
      "authorship_tag": "ABX9TyP32ZrKCI5hYl7DWdvrxp3P",
      "include_colab_link": true
    },
    "kernelspec": {
      "name": "python3",
      "display_name": "Python 3"
    },
    "language_info": {
      "name": "python"
    }
  },
  "cells": [
    {
      "cell_type": "markdown",
      "metadata": {
        "id": "view-in-github",
        "colab_type": "text"
      },
      "source": [
        "<a href=\"https://colab.research.google.com/github/connecttopawan/Machine_Learning/blob/main/Python/1_Train_Test_Split_using_sklearn_library.ipynb\" target=\"_parent\"><img src=\"https://colab.research.google.com/assets/colab-badge.svg\" alt=\"Open In Colab\"/></a>"
      ]
    },
    {
      "cell_type": "markdown",
      "source": [
        "# Train Test Split using sklearn library"
      ],
      "metadata": {
        "id": "P33rm35FD8FS"
      }
    },
    {
      "cell_type": "code",
      "execution_count": 2,
      "metadata": {
        "id": "qV95UMunD5FN"
      },
      "outputs": [],
      "source": [
        "# Importing Libraries\n",
        "import pandas as pd\n",
        "import seaborn as sns"
      ]
    },
    {
      "cell_type": "markdown",
      "source": [
        "Seaborn is an open-source Python library built on top of matplotlib. It is used for data visualization and exploratory data analysis. Seaborn works easily with dataframes and the Pandas library. \n",
        "### Here we are using this to use data files without downloading it."
      ],
      "metadata": {
        "id": "bNqdTo7BEixv"
      }
    },
    {
      "cell_type": "code",
      "source": [
        "# Loading Titanic dataset\n",
        "data= sns.load_dataset(\"titanic\")\n",
        "\n",
        "# Selecting few columns\n",
        "selected_data=data[['survived','pclass','age','parch']]"
      ],
      "metadata": {
        "id": "ku4HXVMfE9Gf"
      },
      "execution_count": 10,
      "outputs": []
    },
    {
      "cell_type": "code",
      "source": [
        "# Filling null/NA values with it's mean value.\n",
        "processed_selected_data=selected_data.fillna(selected_data.mean())\n",
        "\n",
        "# Fetching out feature columns or independent Columns\n",
        "featured_data=processed_selected_data.drop(\"survived\", axis=1)\n",
        "# Fetching out label columns or dependent Columns\n",
        "labeled_data=processed_selected_data[\"survived\"]\n",
        "\n",
        "print(\"Shape of Independent Variable : \",featured_data.shape)\n",
        "print(\"Shape of Dependent Variable : \",labeled_data.shape)\n"
      ],
      "metadata": {
        "colab": {
          "base_uri": "https://localhost:8080/"
        },
        "id": "NOv4ZH6eGX2z",
        "outputId": "02d0f9f6-7004-469f-971f-e457eb3fc11b"
      },
      "execution_count": 14,
      "outputs": [
        {
          "output_type": "stream",
          "name": "stdout",
          "text": [
            "Shape of Independent Variable :  (891, 3)\n",
            "Shape of Dependent Variable :  (891,)\n"
          ]
        }
      ]
    },
    {
      "cell_type": "code",
      "source": [
        "# Spliting data in to test and train\n",
        "from sklearn.model_selection import train_test_split\n",
        "featured_data_train,featured_data_test,labeled_data_train,labeled_data_test= train_test_split(featured_data,labeled_data, test_size=0.3, random_state=60)\n",
        "print(\"Shape of Training Independent Variable : \",featured_data_train.shape)\n",
        "print(\"Shape of Testing Independent Variable : \",featured_data_test.shape)\n",
        "print(\"Shape of Training Dependent Variable : \",labeled_data_train.shape)\n",
        "print(\"Shape of Testing Dependent Variable : \",labeled_data_test.shape)\n",
        "\n"
      ],
      "metadata": {
        "colab": {
          "base_uri": "https://localhost:8080/"
        },
        "id": "h0nKGVm6KLvx",
        "outputId": "44f13086-04d0-46ba-9bf1-b70a29d3b30b"
      },
      "execution_count": 16,
      "outputs": [
        {
          "output_type": "stream",
          "name": "stdout",
          "text": [
            "Shape of Training Independent Variable :  (623, 3)\n",
            "Shape of Testing Independent Variable :  (268, 3)\n",
            "Shape of Training Dependent Variable :  (623,)\n",
            "Shape of Testing Dependent Variable :  (268,)\n"
          ]
        }
      ]
    }
  ]
}