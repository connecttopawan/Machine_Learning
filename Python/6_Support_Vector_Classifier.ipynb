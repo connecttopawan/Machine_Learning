{
  "nbformat": 4,
  "nbformat_minor": 0,
  "metadata": {
    "colab": {
      "name": "6.Support_Vector_Classifier.ipynb",
      "provenance": [],
      "authorship_tag": "ABX9TyOUDEXCFZkwSnlwklOeeOUX",
      "include_colab_link": true
    },
    "kernelspec": {
      "name": "python3",
      "display_name": "Python 3"
    },
    "language_info": {
      "name": "python"
    }
  },
  "cells": [
    {
      "cell_type": "markdown",
      "metadata": {
        "id": "view-in-github",
        "colab_type": "text"
      },
      "source": [
        "<a href=\"https://colab.research.google.com/github/connecttopawan/Machine_Learning/blob/main/Python/6_Support_Vector_Classifier.ipynb\" target=\"_parent\"><img src=\"https://colab.research.google.com/assets/colab-badge.svg\" alt=\"Open In Colab\"/></a>"
      ]
    },
    {
      "cell_type": "markdown",
      "source": [
        "# Support vector classifier\n",
        "### Breast cancer case study"
      ],
      "metadata": {
        "id": "AFjBfA90KgFo"
      }
    },
    {
      "cell_type": "code",
      "execution_count": 1,
      "metadata": {
        "id": "SM8_TBqPKPI3"
      },
      "outputs": [],
      "source": [
        "# Importing Libraries\n",
        "import pandas as pd\n",
        "import numpy as np\n",
        "from sklearn import datasets, linear_model"
      ]
    },
    {
      "cell_type": "code",
      "source": [
        "# Loading source data from sklearn library\n",
        "data = datasets.load_breast_cancer()\n",
        "data.keys()"
      ],
      "metadata": {
        "colab": {
          "base_uri": "https://localhost:8080/"
        },
        "id": "rY-Cz6KpNefz",
        "outputId": "39a2121c-d8e6-457a-ab08-a4b8edc159f9"
      },
      "execution_count": 2,
      "outputs": [
        {
          "output_type": "execute_result",
          "data": {
            "text/plain": [
              "dict_keys(['data', 'target', 'frame', 'target_names', 'DESCR', 'feature_names', 'filename', 'data_module'])"
            ]
          },
          "metadata": {},
          "execution_count": 2
        }
      ]
    },
    {
      "cell_type": "code",
      "source": [
        "# Creating Dataframe\n",
        "df= pd.DataFrame(np.c_[data.data, data.target], columns=[list(data.feature_names)+['target']])\n",
        "df.shape"
      ],
      "metadata": {
        "colab": {
          "base_uri": "https://localhost:8080/"
        },
        "id": "Y2rMEIDuP7av",
        "outputId": "8921e149-0851-4635-eed4-daf1101c23b4"
      },
      "execution_count": 3,
      "outputs": [
        {
          "output_type": "execute_result",
          "data": {
            "text/plain": [
              "(569, 31)"
            ]
          },
          "metadata": {},
          "execution_count": 3
        }
      ]
    },
    {
      "cell_type": "code",
      "source": [
        "# Fetching out feature columns or independent Columns\n",
        "featured_data=df.drop(\"target\",axis=1)\n",
        "# Fetching out label columns or dependent Columns\n",
        "labeled_data=df[\"target\"]\n",
        "\n",
        "print(\"Shape of Independent Variable : \",featured_data.shape)\n",
        "print(\"Shape of Dependent Variable : \",labeled_data.shape)"
      ],
      "metadata": {
        "colab": {
          "base_uri": "https://localhost:8080/"
        },
        "id": "LG7mniuXRk9q",
        "outputId": "1c03ecab-f267-4a00-dc29-0a43e5ecdd0f"
      },
      "execution_count": 4,
      "outputs": [
        {
          "output_type": "stream",
          "name": "stdout",
          "text": [
            "Shape of Independent Variable :  (569, 30)\n",
            "Shape of Dependent Variable :  (569, 1)\n"
          ]
        },
        {
          "output_type": "stream",
          "name": "stderr",
          "text": [
            "/usr/local/lib/python3.7/dist-packages/pandas/core/generic.py:4150: PerformanceWarning: dropping on a non-lexsorted multi-index without a level parameter may impact performance.\n",
            "  obj = obj._drop_axis(labels, axis, level=level, errors=errors)\n"
          ]
        }
      ]
    },
    {
      "cell_type": "code",
      "source": [
        "# Spliting data in to test and train\n",
        "from sklearn.model_selection import train_test_split\n",
        "featured_data_train,featured_data_test,labeled_data_train,labeled_data_test= train_test_split(featured_data,labeled_data, test_size=0.2, random_state=51)\n",
        "print(\"Shape of Training Independent Variable : \",featured_data_train.shape)\n",
        "print(\"Shape of Testing Independent Variable : \",featured_data_test.shape)\n",
        "print(\"Shape of Training Dependent Variable : \",labeled_data_train.shape)\n",
        "print(\"Shape of Testing Dependent Variable : \",labeled_data_test.shape)"
      ],
      "metadata": {
        "colab": {
          "base_uri": "https://localhost:8080/"
        },
        "id": "D8ODHtMbSHla",
        "outputId": "72fd054d-dbec-4a12-cf68-df0e86d0ec8d"
      },
      "execution_count": 5,
      "outputs": [
        {
          "output_type": "stream",
          "name": "stdout",
          "text": [
            "Shape of Training Independent Variable :  (455, 30)\n",
            "Shape of Testing Independent Variable :  (114, 30)\n",
            "Shape of Training Dependent Variable :  (455, 1)\n",
            "Shape of Testing Dependent Variable :  (114, 1)\n"
          ]
        }
      ]
    },
    {
      "cell_type": "code",
      "source": [
        "# Feature Scaling\n",
        "from sklearn.preprocessing import StandardScaler\n",
        "sc = StandardScaler()\n",
        "sc.fit(featured_data_train)\n",
        "featured_data_train = sc.transform(featured_data_train)\n",
        "featured_data_test = sc.transform(featured_data_test)\n",
        "print(\"Shape of Training Independent Variable : \",featured_data_train.shape)\n",
        "print(\"Shape of Testing Independent Variable : \",featured_data_test.shape)\n",
        "print(\"Shape of Training Dependent Variable : \",labeled_data_train.shape)\n",
        "print(\"Shape of Testing Dependent Variable : \",labeled_data_test.shape)"
      ],
      "metadata": {
        "colab": {
          "base_uri": "https://localhost:8080/"
        },
        "id": "phmzsNZvS5Tq",
        "outputId": "dccb13e2-9018-44a4-9c38-708053f13baa"
      },
      "execution_count": 6,
      "outputs": [
        {
          "output_type": "stream",
          "name": "stdout",
          "text": [
            "Shape of Training Independent Variable :  (455, 30)\n",
            "Shape of Testing Independent Variable :  (114, 30)\n",
            "Shape of Training Dependent Variable :  (455, 1)\n",
            "Shape of Testing Dependent Variable :  (114, 1)\n"
          ]
        },
        {
          "output_type": "stream",
          "name": "stderr",
          "text": [
            "/usr/local/lib/python3.7/dist-packages/sklearn/utils/validation.py:1692: FutureWarning: Feature names only support names that are all strings. Got feature names with dtypes: ['tuple']. An error will be raised in 1.2.\n",
            "  FutureWarning,\n",
            "/usr/local/lib/python3.7/dist-packages/sklearn/utils/validation.py:1692: FutureWarning: Feature names only support names that are all strings. Got feature names with dtypes: ['tuple']. An error will be raised in 1.2.\n",
            "  FutureWarning,\n",
            "/usr/local/lib/python3.7/dist-packages/sklearn/utils/validation.py:1692: FutureWarning: Feature names only support names that are all strings. Got feature names with dtypes: ['tuple']. An error will be raised in 1.2.\n",
            "  FutureWarning,\n"
          ]
        }
      ]
    },
    {
      "cell_type": "code",
      "source": [
        "# Training Model\n",
        "from sklearn.svm import SVC\n",
        "sv_cl= SVC(kernel='rbf')\n",
        "sv_cl.fit(featured_data_train, labeled_data_train)\n",
        "sv_cl.score(featured_data_test, labeled_data_test)"
      ],
      "metadata": {
        "colab": {
          "base_uri": "https://localhost:8080/"
        },
        "id": "hPxW_2nrTEqf",
        "outputId": "b876dc13-111b-44b1-cc51-4636e3a0fea1"
      },
      "execution_count": 7,
      "outputs": [
        {
          "output_type": "stream",
          "name": "stderr",
          "text": [
            "/usr/local/lib/python3.7/dist-packages/sklearn/utils/validation.py:993: DataConversionWarning: A column-vector y was passed when a 1d array was expected. Please change the shape of y to (n_samples, ), for example using ravel().\n",
            "  y = column_or_1d(y, warn=True)\n"
          ]
        },
        {
          "output_type": "execute_result",
          "data": {
            "text/plain": [
              "0.9473684210526315"
            ]
          },
          "metadata": {},
          "execution_count": 7
        }
      ]
    },
    {
      "cell_type": "code",
      "source": [
        "sv_cl1= SVC(kernel='poly')\n",
        "sv_cl1.fit(featured_data_train, labeled_data_train)\n",
        "sv_cl1.score(featured_data_test, labeled_data_test)"
      ],
      "metadata": {
        "colab": {
          "base_uri": "https://localhost:8080/"
        },
        "id": "p4mUdVmRVTfk",
        "outputId": "533cc193-0ae0-4eac-e1ff-e58047b9effa"
      },
      "execution_count": 8,
      "outputs": [
        {
          "output_type": "stream",
          "name": "stderr",
          "text": [
            "/usr/local/lib/python3.7/dist-packages/sklearn/utils/validation.py:993: DataConversionWarning: A column-vector y was passed when a 1d array was expected. Please change the shape of y to (n_samples, ), for example using ravel().\n",
            "  y = column_or_1d(y, warn=True)\n"
          ]
        },
        {
          "output_type": "execute_result",
          "data": {
            "text/plain": [
              "0.8421052631578947"
            ]
          },
          "metadata": {},
          "execution_count": 8
        }
      ]
    },
    {
      "cell_type": "code",
      "source": [
        "sv_cl2= SVC(kernel='poly',degree=5)\n",
        "sv_cl2.fit(featured_data_train, labeled_data_train)\n",
        "sv_cl2.score(featured_data_test, labeled_data_test)"
      ],
      "metadata": {
        "colab": {
          "base_uri": "https://localhost:8080/"
        },
        "id": "pe5PuzS7W4AW",
        "outputId": "d57cfd6c-a92e-4528-a3e7-073820385c90"
      },
      "execution_count": 9,
      "outputs": [
        {
          "output_type": "stream",
          "name": "stderr",
          "text": [
            "/usr/local/lib/python3.7/dist-packages/sklearn/utils/validation.py:993: DataConversionWarning: A column-vector y was passed when a 1d array was expected. Please change the shape of y to (n_samples, ), for example using ravel().\n",
            "  y = column_or_1d(y, warn=True)\n"
          ]
        },
        {
          "output_type": "execute_result",
          "data": {
            "text/plain": [
              "0.8070175438596491"
            ]
          },
          "metadata": {},
          "execution_count": 9
        }
      ]
    },
    {
      "cell_type": "code",
      "source": [
        "sv_cl3= SVC(kernel='linear')\n",
        "sv_cl3.fit(featured_data_train, labeled_data_train)\n",
        "sv_cl3.score(featured_data_test, labeled_data_test)"
      ],
      "metadata": {
        "colab": {
          "base_uri": "https://localhost:8080/"
        },
        "id": "NwEhOwa0V67W",
        "outputId": "83dfc5e5-c51b-45b2-e5b5-796e24c1c627"
      },
      "execution_count": 10,
      "outputs": [
        {
          "output_type": "stream",
          "name": "stderr",
          "text": [
            "/usr/local/lib/python3.7/dist-packages/sklearn/utils/validation.py:993: DataConversionWarning: A column-vector y was passed when a 1d array was expected. Please change the shape of y to (n_samples, ), for example using ravel().\n",
            "  y = column_or_1d(y, warn=True)\n"
          ]
        },
        {
          "output_type": "execute_result",
          "data": {
            "text/plain": [
              "0.9473684210526315"
            ]
          },
          "metadata": {},
          "execution_count": 10
        }
      ]
    },
    {
      "cell_type": "code",
      "source": [
        "# Predicting the value\n",
        "labeled_data_predict = sv_cl.predict(featured_data_test)\n",
        "labeled_data_predict1 = sv_cl1.predict(featured_data_test)\n",
        "labeled_data_predict2 = sv_cl2.predict(featured_data_test)\n",
        "labeled_data_predict3 = sv_cl3.predict(featured_data_test)\n",
        "print(labeled_data_predict)\n",
        "print(labeled_data_predict1)\n",
        "print(labeled_data_predict2)\n",
        "print(labeled_data_predict3)"
      ],
      "metadata": {
        "colab": {
          "base_uri": "https://localhost:8080/"
        },
        "id": "KaHDMPuJWbrV",
        "outputId": "095e5ab8-e678-439d-a2b5-f94545b486e3"
      },
      "execution_count": 11,
      "outputs": [
        {
          "output_type": "stream",
          "name": "stdout",
          "text": [
            "[1. 1. 1. 1. 1. 0. 1. 1. 0. 0. 0. 1. 1. 1. 1. 1. 1. 1. 1. 1. 0. 1. 0. 1.\n",
            " 1. 1. 1. 1. 1. 1. 0. 1. 1. 1. 1. 1. 0. 1. 1. 1. 1. 1. 1. 0. 1. 0. 0. 0.\n",
            " 1. 1. 1. 1. 0. 1. 0. 1. 0. 0. 1. 1. 1. 1. 1. 0. 1. 1. 0. 1. 1. 0. 1. 1.\n",
            " 0. 0. 1. 0. 0. 0. 1. 0. 0. 1. 1. 0. 0. 1. 1. 1. 0. 1. 0. 1. 1. 1. 1. 1.\n",
            " 1. 0. 1. 0. 1. 1. 1. 1. 1. 1. 1. 1. 1. 1. 1. 1. 1. 1.]\n",
            "[1. 1. 1. 1. 1. 1. 1. 1. 0. 1. 0. 1. 1. 1. 1. 1. 1. 1. 1. 1. 0. 1. 1. 1.\n",
            " 1. 1. 1. 1. 1. 1. 0. 1. 1. 1. 1. 1. 0. 1. 1. 1. 1. 1. 1. 0. 1. 0. 0. 0.\n",
            " 1. 1. 1. 1. 1. 1. 1. 1. 0. 0. 1. 1. 1. 1. 1. 1. 1. 1. 1. 1. 1. 1. 1. 1.\n",
            " 0. 0. 1. 0. 1. 0. 1. 0. 1. 1. 1. 0. 0. 1. 1. 1. 0. 1. 1. 1. 1. 1. 1. 1.\n",
            " 1. 0. 1. 1. 1. 1. 1. 1. 1. 1. 1. 1. 1. 1. 1. 1. 1. 1.]\n",
            "[1. 1. 1. 1. 1. 1. 1. 1. 0. 1. 0. 1. 1. 1. 1. 1. 1. 1. 1. 1. 1. 1. 1. 1.\n",
            " 1. 1. 1. 1. 1. 1. 1. 1. 1. 1. 1. 1. 0. 1. 1. 1. 1. 1. 1. 1. 1. 0. 1. 0.\n",
            " 1. 1. 1. 1. 1. 1. 1. 1. 0. 0. 1. 1. 1. 1. 1. 1. 1. 1. 1. 1. 1. 1. 1. 1.\n",
            " 0. 0. 1. 0. 1. 0. 1. 0. 1. 1. 1. 0. 0. 1. 1. 1. 0. 1. 1. 1. 1. 1. 1. 1.\n",
            " 1. 0. 1. 1. 1. 1. 1. 1. 1. 1. 1. 1. 1. 1. 1. 1. 1. 1.]\n",
            "[1. 1. 1. 1. 1. 0. 1. 1. 0. 0. 0. 1. 1. 1. 1. 1. 1. 1. 1. 1. 0. 1. 0. 1.\n",
            " 1. 1. 1. 1. 1. 1. 0. 1. 1. 1. 1. 1. 0. 1. 1. 1. 1. 1. 1. 0. 1. 0. 0. 0.\n",
            " 1. 1. 1. 1. 0. 1. 0. 1. 0. 0. 1. 1. 1. 1. 1. 0. 1. 1. 0. 1. 1. 0. 1. 1.\n",
            " 0. 0. 1. 0. 0. 0. 1. 0. 0. 1. 1. 0. 0. 1. 1. 1. 0. 1. 0. 1. 1. 1. 1. 1.\n",
            " 1. 0. 1. 0. 1. 1. 1. 1. 1. 1. 1. 1. 1. 1. 1. 1. 1. 1.]\n"
          ]
        }
      ]
    },
    {
      "cell_type": "code",
      "source": [
        "for i in labeled_data_predict:\n",
        "  if i==0:\n",
        "    print(\"Patient has cancer : Tumor\")\n",
        "  else:\n",
        "    print(\"Patient has cancer : Benign\")"
      ],
      "metadata": {
        "colab": {
          "base_uri": "https://localhost:8080/"
        },
        "id": "cP1gl2rHd-lY",
        "outputId": "1c9872e8-7a13-4bdc-e864-1840d0551e3b"
      },
      "execution_count": 12,
      "outputs": [
        {
          "output_type": "stream",
          "name": "stdout",
          "text": [
            "Patient has cancer : Benign\n",
            "Patient has cancer : Benign\n",
            "Patient has cancer : Benign\n",
            "Patient has cancer : Benign\n",
            "Patient has cancer : Benign\n",
            "Patient has cancer : Tumor\n",
            "Patient has cancer : Benign\n",
            "Patient has cancer : Benign\n",
            "Patient has cancer : Tumor\n",
            "Patient has cancer : Tumor\n",
            "Patient has cancer : Tumor\n",
            "Patient has cancer : Benign\n",
            "Patient has cancer : Benign\n",
            "Patient has cancer : Benign\n",
            "Patient has cancer : Benign\n",
            "Patient has cancer : Benign\n",
            "Patient has cancer : Benign\n",
            "Patient has cancer : Benign\n",
            "Patient has cancer : Benign\n",
            "Patient has cancer : Benign\n",
            "Patient has cancer : Tumor\n",
            "Patient has cancer : Benign\n",
            "Patient has cancer : Tumor\n",
            "Patient has cancer : Benign\n",
            "Patient has cancer : Benign\n",
            "Patient has cancer : Benign\n",
            "Patient has cancer : Benign\n",
            "Patient has cancer : Benign\n",
            "Patient has cancer : Benign\n",
            "Patient has cancer : Benign\n",
            "Patient has cancer : Tumor\n",
            "Patient has cancer : Benign\n",
            "Patient has cancer : Benign\n",
            "Patient has cancer : Benign\n",
            "Patient has cancer : Benign\n",
            "Patient has cancer : Benign\n",
            "Patient has cancer : Tumor\n",
            "Patient has cancer : Benign\n",
            "Patient has cancer : Benign\n",
            "Patient has cancer : Benign\n",
            "Patient has cancer : Benign\n",
            "Patient has cancer : Benign\n",
            "Patient has cancer : Benign\n",
            "Patient has cancer : Tumor\n",
            "Patient has cancer : Benign\n",
            "Patient has cancer : Tumor\n",
            "Patient has cancer : Tumor\n",
            "Patient has cancer : Tumor\n",
            "Patient has cancer : Benign\n",
            "Patient has cancer : Benign\n",
            "Patient has cancer : Benign\n",
            "Patient has cancer : Benign\n",
            "Patient has cancer : Tumor\n",
            "Patient has cancer : Benign\n",
            "Patient has cancer : Tumor\n",
            "Patient has cancer : Benign\n",
            "Patient has cancer : Tumor\n",
            "Patient has cancer : Tumor\n",
            "Patient has cancer : Benign\n",
            "Patient has cancer : Benign\n",
            "Patient has cancer : Benign\n",
            "Patient has cancer : Benign\n",
            "Patient has cancer : Benign\n",
            "Patient has cancer : Tumor\n",
            "Patient has cancer : Benign\n",
            "Patient has cancer : Benign\n",
            "Patient has cancer : Tumor\n",
            "Patient has cancer : Benign\n",
            "Patient has cancer : Benign\n",
            "Patient has cancer : Tumor\n",
            "Patient has cancer : Benign\n",
            "Patient has cancer : Benign\n",
            "Patient has cancer : Tumor\n",
            "Patient has cancer : Tumor\n",
            "Patient has cancer : Benign\n",
            "Patient has cancer : Tumor\n",
            "Patient has cancer : Tumor\n",
            "Patient has cancer : Tumor\n",
            "Patient has cancer : Benign\n",
            "Patient has cancer : Tumor\n",
            "Patient has cancer : Tumor\n",
            "Patient has cancer : Benign\n",
            "Patient has cancer : Benign\n",
            "Patient has cancer : Tumor\n",
            "Patient has cancer : Tumor\n",
            "Patient has cancer : Benign\n",
            "Patient has cancer : Benign\n",
            "Patient has cancer : Benign\n",
            "Patient has cancer : Tumor\n",
            "Patient has cancer : Benign\n",
            "Patient has cancer : Tumor\n",
            "Patient has cancer : Benign\n",
            "Patient has cancer : Benign\n",
            "Patient has cancer : Benign\n",
            "Patient has cancer : Benign\n",
            "Patient has cancer : Benign\n",
            "Patient has cancer : Benign\n",
            "Patient has cancer : Tumor\n",
            "Patient has cancer : Benign\n",
            "Patient has cancer : Tumor\n",
            "Patient has cancer : Benign\n",
            "Patient has cancer : Benign\n",
            "Patient has cancer : Benign\n",
            "Patient has cancer : Benign\n",
            "Patient has cancer : Benign\n",
            "Patient has cancer : Benign\n",
            "Patient has cancer : Benign\n",
            "Patient has cancer : Benign\n",
            "Patient has cancer : Benign\n",
            "Patient has cancer : Benign\n",
            "Patient has cancer : Benign\n",
            "Patient has cancer : Benign\n",
            "Patient has cancer : Benign\n",
            "Patient has cancer : Benign\n"
          ]
        }
      ]
    },
    {
      "cell_type": "code",
      "source": [
        "# Evaluation of model\n",
        "from sklearn.metrics import mean_squared_error\n",
        "mse = mean_squared_error(labeled_data_test, labeled_data_predict)\n",
        "rmse = np.sqrt(mse)\n",
        "\n",
        "mse1 = mean_squared_error(labeled_data_test, labeled_data_predict1)\n",
        "rmse1 = np.sqrt(mse1)\n",
        "\n",
        "mse2 = mean_squared_error(labeled_data_test, labeled_data_predict2)\n",
        "rmse2 = np.sqrt(mse2)\n",
        "\n",
        "mse3 = mean_squared_error(labeled_data_test, labeled_data_predict2)\n",
        "rmse3 = np.sqrt(mse3)\n",
        " \n",
        "mse, rmse, \"\\n\" , mse1, rmse1, \"\\n\" , mse2, rmse2, \"\\n\" , mse3, rmse3"
      ],
      "metadata": {
        "colab": {
          "base_uri": "https://localhost:8080/"
        },
        "id": "73mnDVyofHCR",
        "outputId": "5e65910e-ad1c-4b40-efe3-ef6de8709a1a"
      },
      "execution_count": 13,
      "outputs": [
        {
          "output_type": "execute_result",
          "data": {
            "text/plain": [
              "(0.05263157894736842,\n",
              " 0.22941573387056177,\n",
              " '\\n',\n",
              " 0.15789473684210525,\n",
              " 0.39735970711951313,\n",
              " '\\n',\n",
              " 0.19298245614035087,\n",
              " 0.4392976851069794,\n",
              " '\\n',\n",
              " 0.19298245614035087,\n",
              " 0.4392976851069794)"
            ]
          },
          "metadata": {},
          "execution_count": 13
        }
      ]
    }
  ]
}