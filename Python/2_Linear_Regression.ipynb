{
  "nbformat": 4,
  "nbformat_minor": 0,
  "metadata": {
    "colab": {
      "name": "2.Linear_Regression.ipynb",
      "provenance": [],
      "collapsed_sections": [],
      "authorship_tag": "ABX9TyO626+sF2EeCTBRLCOfsdVI",
      "include_colab_link": true
    },
    "kernelspec": {
      "name": "python3",
      "display_name": "Python 3"
    },
    "language_info": {
      "name": "python"
    }
  },
  "cells": [
    {
      "cell_type": "markdown",
      "metadata": {
        "id": "view-in-github",
        "colab_type": "text"
      },
      "source": [
        "<a href=\"https://colab.research.google.com/github/connecttopawan/Machine_Learning/blob/main/Python/2_Linear_Regression.ipynb\" target=\"_parent\"><img src=\"https://colab.research.google.com/assets/colab-badge.svg\" alt=\"Open In Colab\"/></a>"
      ]
    },
    {
      "cell_type": "code",
      "execution_count": null,
      "metadata": {
        "id": "40EiC5p_RUCd"
      },
      "outputs": [],
      "source": [
        "# Importing Libraries\n",
        "from sklearn import datasets, linear_model "
      ]
    },
    {
      "cell_type": "markdown",
      "source": [
        "Scikit-learn (Sklearn) is the most useful and robust library for machine learning in Python. It provides a selection of efficient tools for machine learning and statistical modeling including classification, regression, clustering and dimensionality reduction via a consistence interface in Python. This library, which is largely written in Python, is built upon NumPy, SciPy and Matplotlib.\n",
        "\n",
        "### Here we are using to load dataset without downloading it. "
      ],
      "metadata": {
        "id": "3EdYJPMySKYn"
      }
    },
    {
      "cell_type": "code",
      "source": [
        "# Loading Diabetes dataset\n",
        "data=datasets.load_diabetes()"
      ],
      "metadata": {
        "id": "GvNoW32-SX74"
      },
      "execution_count": null,
      "outputs": []
    },
    {
      "cell_type": "code",
      "source": [
        "# Fetching out feature columns or independent Columns\n",
        "featured_data=data[\"data\"]\n",
        "# Fetching out label columns or dependent Columns\n",
        "labeled_data=data[\"target\"]\n",
        "\n",
        "print(\"Shape of Independent Variable : \",featured_data.shape)\n",
        "print(\"Shape of Dependent Variable : \",labeled_data.shape)"
      ],
      "metadata": {
        "colab": {
          "base_uri": "https://localhost:8080/"
        },
        "id": "AOoz8iHXTToF",
        "outputId": "32e9bb4c-26e8-49fd-c2ee-f0bafc4e96ab"
      },
      "execution_count": null,
      "outputs": [
        {
          "output_type": "stream",
          "name": "stdout",
          "text": [
            "Shape of Independent Variable :  (442, 10)\n",
            "Shape of Dependent Variable :  (442,)\n"
          ]
        }
      ]
    },
    {
      "cell_type": "code",
      "source": [
        "# Spliting data in to test and train\n",
        "from sklearn.model_selection import train_test_split\n",
        "featured_data_train,featured_data_test,labeled_data_train,labeled_data_test= train_test_split(featured_data,labeled_data, test_size=0.3, random_state=60)\n",
        "print(\"Shape of Training Independent Variable : \",featured_data_train.shape)\n",
        "print(\"Shape of Testing Independent Variable : \",featured_data_test.shape)\n",
        "print(\"Shape of Training Dependent Variable : \",labeled_data_train.shape)\n",
        "print(\"Shape of Testing Dependent Variable : \",labeled_data_test.shape)"
      ],
      "metadata": {
        "id": "HPtPdCKEVwGb",
        "colab": {
          "base_uri": "https://localhost:8080/"
        },
        "outputId": "0e14c7d8-9b0c-4d81-f459-9ce2f1168c66"
      },
      "execution_count": 8,
      "outputs": [
        {
          "output_type": "stream",
          "name": "stdout",
          "text": [
            "Shape of Training Independent Variable :  (309, 10)\n",
            "Shape of Testing Independent Variable :  (133, 10)\n",
            "Shape of Training Dependent Variable :  (309,)\n",
            "Shape of Testing Dependent Variable :  (133,)\n"
          ]
        }
      ]
    },
    {
      "cell_type": "code",
      "source": [
        "# Created linear model\n",
        "model=linear_model.LinearRegression()\n",
        "\n",
        "# Training our model against train data\n",
        "model.fit(featured_data_train,labeled_data_train)\n",
        "\n",
        "# Finding Coefficient and intercept of model\n",
        "coefficient=model.coef_\n",
        "intercept=model.intercept_\n",
        "print(\"Coefficient : \",coefficient,\"\\nIntercept : \", intercept)"
      ],
      "metadata": {
        "colab": {
          "base_uri": "https://localhost:8080/"
        },
        "id": "bS_7uGbNZ4cC",
        "outputId": "5eb7adda-fb22-4065-9ce5-a84996624bc6"
      },
      "execution_count": 11,
      "outputs": [
        {
          "output_type": "stream",
          "name": "stdout",
          "text": [
            "Coefficient :  [-104.86633119 -188.25884532  474.25504387  288.81684167 -744.77831411\n",
            "  480.70864345   88.62692917  209.32588131  703.8027382   125.47247265] \n",
            "Intercept :  152.6451596759882\n"
          ]
        }
      ]
    },
    {
      "cell_type": "code",
      "source": [
        "# Calculating prediction from test data\n",
        "predicted_data=model.predict(featured_data_test)\n",
        "\n",
        "# Evaluating the model\n",
        "from sklearn.metrics import mean_squared_error, mean_absolute_error, r2_score\n",
        "# Mean Square Error\n",
        "mse= mean_squared_error(labeled_data_test,predicted_data)\n",
        "# Mean Absolute Error\n",
        "mae= mean_absolute_error(labeled_data_test,predicted_data)\n",
        "# Coefficient of determination (r2)\n",
        "r2= r2_score(labeled_data_test,predicted_data)\n",
        "\n",
        "print(\"Mean Square Error : \", mse)\n",
        "print(\"Mean Absolute Error : \", mae)\n",
        "print(\"Coefficient of determination : \", r2)\n"
      ],
      "metadata": {
        "colab": {
          "base_uri": "https://localhost:8080/"
        },
        "id": "SplcpiATaz_f",
        "outputId": "ecc8087d-83ad-4864-b03d-ccb533c4c938"
      },
      "execution_count": 12,
      "outputs": [
        {
          "output_type": "stream",
          "name": "stdout",
          "text": [
            "Mean Square Error :  2925.168447023889\n",
            "Mean Absolute Error :  43.228096595936854\n",
            "Coefficient of determination :  0.5222771141349307\n"
          ]
        }
      ]
    }
  ]
}